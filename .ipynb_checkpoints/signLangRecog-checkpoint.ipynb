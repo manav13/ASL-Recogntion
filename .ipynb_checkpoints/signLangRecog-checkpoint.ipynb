{
 "cells": [
  {
   "cell_type": "code",
   "execution_count": 2,
   "metadata": {},
   "outputs": [],
   "source": [
    "import pandas as pd\n",
    "import numpy as np\n",
    "from matplotlib import pyplot as plt"
   ]
  },
  {
   "cell_type": "code",
   "execution_count": 6,
   "metadata": {},
   "outputs": [
    {
     "data": {
      "text/plain": [
       "array([[  6, 149, 149, ..., 112, 120, 107],\n",
       "       [  5, 126, 128, ..., 184, 182, 180],\n",
       "       [ 10,  85,  88, ..., 225, 224, 222],\n",
       "       ...,\n",
       "       [  2, 190, 191, ..., 211, 209, 208],\n",
       "       [  4, 201, 205, ...,  67,  70,  63],\n",
       "       [  2, 173, 174, ..., 195, 193, 192]], dtype=int64)"
      ]
     },
     "execution_count": 6,
     "metadata": {},
     "output_type": "execute_result"
    },
    {
     "data": {
      "image/png": "[encoded data removed]",
      "text/plain": [
       "<Figure size 432x288 with 1 Axes>"
      ]
     },
     "metadata": {
      "needs_background": "light"
     },
     "output_type": "display_data"
    }
   ],
   "source": [
    "data = pd.read_csv(\"sign_mnist_train.csv\")\n",
    "data_array = np.array(data)\n",
    "label = data_array[:,0]\n",
    "pixels = data_array[:,[range(1,785)]]\n",
    "image1 = pixels[10].reshape(28,28)\n",
    "plt.imshow(image1, cmap='gray')\n",
    "#plt.show()\n",
    "data_array"
   ]
  },
  {
   "cell_type": "code",
   "execution_count": null,
   "metadata": {},
   "outputs": [],
   "source": []
  }
 ],
 "metadata": {
  "kernelspec": {
   "display_name": "Python 3",
   "language": "python",
   "name": "python3"
  },
  "language_info": {
   "codemirror_mode": {
    "name": "ipython",
    "version": 3
   },
   "file_extension": ".py",
   "mimetype": "text/x-python",
   "name": "python",
   "nbconvert_exporter": "python",
   "pygments_lexer": "ipython3",
   "version": "3.6.5"
  }
 },
 "nbformat": 4,
 "nbformat_minor": 2
}
